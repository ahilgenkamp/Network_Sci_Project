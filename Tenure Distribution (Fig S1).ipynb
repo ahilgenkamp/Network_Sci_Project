{
 "cells": [
  {
   "cell_type": "code",
   "execution_count": 2,
   "metadata": {},
   "outputs": [],
   "source": [
    "import os\n",
    "import pandas as pd\n",
    "import numpy as np\n",
    "from collections import Counter\n",
    "import matplotlib.pyplot as plt\n",
    "%matplotlib inline"
   ]
  },
  {
   "cell_type": "code",
   "execution_count": 5,
   "metadata": {},
   "outputs": [],
   "source": [
    "cwd = os.getcwd()\n",
    "clean_user_data = pd.read_csv(cwd+'\\\\Data\\\\user_details_clean.csv', encoding='utf-8')"
   ]
  },
  {
   "cell_type": "code",
   "execution_count": 6,
   "metadata": {},
   "outputs": [],
   "source": [
    "clean_user_data = clean_user_data.fillna(0)\n",
    "clean_user_data['Tenure'] = clean_user_data['Tenure'] / 365\n",
    "clean_user_data = clean_user_data.round({'Tenure': 0})\n",
    "clean_user_data['Tenure'] = clean_user_data['Tenure'].apply(int)\n",
    "#bucket the Tenure Groups\n",
    "clean_user_data['Tenure_Group'] = 'N/A'\n",
    "clean_user_data.loc[clean_user_data['Tenure'] < 1,'Tenure_Group'] = '< 1 yr'\n",
    "clean_user_data.loc[(clean_user_data['Tenure'] >= 1) & (clean_user_data['Tenure'] < 4 ), 'Tenure_Group'] = '1 to 3 yrs'\n",
    "clean_user_data.loc[(clean_user_data['Tenure'] >= 4) & (clean_user_data['Tenure'] < 8 ), 'Tenure_Group'] = '4 to 8 yrs'\n",
    "clean_user_data.loc[clean_user_data['Tenure'] >= 8,'Tenure_Group'] = '> 8 yrs'\n",
    "clean_user_data['Tenure_Group'] = clean_user_data['Tenure_Group'].astype(str)\n",
    "clean_user_data['Tenure'] = clean_user_data['Tenure'].astype(str)"
   ]
  },
  {
   "cell_type": "code",
   "execution_count": 7,
   "metadata": {},
   "outputs": [
    {
     "name": "stdout",
     "output_type": "stream",
     "text": [
      "25% --> 1.0\n",
      "50% --> 2.0\n",
      "75% --> 4.0\n",
      "95% --> 8.0\n"
     ]
    },
    {
     "data": {
      "image/png": "[encoded data removed]",
      "text/plain": [
       "<Figure size 432x288 with 1 Axes>"
      ]
     },
     "metadata": {},
     "output_type": "display_data"
    }
   ],
   "source": [
    "tenure = list(clean_user_data['Tenure'].astype(int).tolist())\n",
    "\n",
    "nk = Counter(tenure)\n",
    "\n",
    "x = []\n",
    "y = []\n",
    "for k in sorted(nk):\n",
    "    x.append(k)\n",
    "    y.append(nk[k])\n",
    "\n",
    "p_25 = np.percentile(tenure, 25)\n",
    "median = np.percentile(tenure, 50)\n",
    "p_75 = np.percentile(tenure, 75)\n",
    "p_95 = np.percentile(tenure, 95)\n",
    "\n",
    "print('25% --> '+str(p_25))\n",
    "print('50% --> '+str(median))\n",
    "print('75% --> '+str(p_75))\n",
    "print('95% --> '+str(p_95))\n",
    "    \n",
    "plt.plot(x,y)\n",
    "plt.title('Tenure Distribution')\n",
    "plt.ylabel(\"Count\")\n",
    "plt.xlabel(\"Years\")\n",
    "plt.show()"
   ]
  }
 ],
 "metadata": {
  "kernelspec": {
   "display_name": "Python 3",
   "language": "python",
   "name": "python3"
  },
  "language_info": {
   "codemirror_mode": {
    "name": "ipython",
    "version": 3
   },
   "file_extension": ".py",
   "mimetype": "text/x-python",
   "name": "python",
   "nbconvert_exporter": "python",
   "pygments_lexer": "ipython3",
   "version": "3.6.4"
  }
 },
 "nbformat": 4,
 "nbformat_minor": 2
}
