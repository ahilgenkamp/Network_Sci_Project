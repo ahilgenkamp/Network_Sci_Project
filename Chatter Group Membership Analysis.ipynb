{
 "cells": [
  {
   "cell_type": "code",
   "execution_count": 2,
   "metadata": {},
   "outputs": [],
   "source": [
    "#Load packages\n",
    "import networkx as nx\n",
    "import os\n",
    "import pandas as pd\n",
    "import numpy as np\n",
    "import math\n",
    "import random\n",
    "import time\n",
    "import powerlaw\n",
    "from collections import Counter\n",
    "import matplotlib.pyplot as plt\n",
    "%matplotlib inline"
   ]
  },
  {
   "cell_type": "code",
   "execution_count": 3,
   "metadata": {},
   "outputs": [
    {
     "name": "stdout",
     "output_type": "stream",
     "text": [
      "(156603, 8)\n"
     ]
    }
   ],
   "source": [
    "#load dataset\n",
    "cwd = os.getcwd()\n",
    "\n",
    "chatter_data = pd.read_csv(cwd+'\\\\Data\\\\chatter_membership_10_clean.csv', encoding='utf-8')\n",
    "print(chatter_data.shape)"
   ]
  },
  {
   "cell_type": "code",
   "execution_count": 6,
   "metadata": {},
   "outputs": [
    {
     "name": "stdout",
     "output_type": "stream",
     "text": [
      "94\n"
     ]
    },
    {
     "data": {
      "image/png": "[encoded data removed]",
      "text/plain": [
       "<Figure size 432x288 with 1 Axes>"
      ]
     },
     "metadata": {},
     "output_type": "display_data"
    },
    {
     "name": "stdout",
     "output_type": "stream",
     "text": [
      "Time to complete process: 528.978sec\n"
     ]
    }
   ],
   "source": [
    "# create the network\n",
    "# TAKES A LONG TIME TO RENDER GRAPH. ONLY DRAW IF USING A SMALL SAMPLE\n",
    "G = nx.Graph()\n",
    "target_list = chatter_data['Name'].unique().tolist()\n",
    "sample_list = random.sample(target_list, int(float(len(target_list))*1)) #take a smaller sample\n",
    "\n",
    "print(len(sample_list))\n",
    "\n",
    "start=time.clock()\n",
    "print(time.strftime('%Y-%m-%d %H:%M:%S', time.localtime()))\n",
    "\n",
    "start2=time.clock()\n",
    "for t in sample_list:\n",
    "    if i % 100 == 0:\n",
    "       end2=time.clock()\n",
    "       print(str(round((i/(len(sample_list)))*100,1))+'% Completed in '+str(round(end2-start2,3)))\n",
    "       start2=time.clock()\n",
    "    chatter_single_user = chatter_data.loc[chatter_data['Name'] == t]\n",
    "    #get list with one item that is the group name\n",
    "    target = chatter_single_user['Name'].unique().tolist() \n",
    "    #create list of all people who are members of the group\n",
    "    poster = chatter_single_user['USER_NAME_ID'].unique().tolist()\n",
    "      \n",
    "    G.add_node(target[0])\n",
    "    G.add_nodes_from(poster)\n",
    "    G.add_edges_from([(target[0], p) for p in poster])\n",
    "    \n",
    "#nx.draw_networkx(G, pos=None, node_size = 10, with_labels=False)\n",
    "#plt.show()\n",
    "\n",
    "end=time.clock()\n",
    "print(\"Time to complete process: \"+str(round(end-start,3))+\"sec\")"
   ]
  },
  {
   "cell_type": "code",
   "execution_count": 7,
   "metadata": {},
   "outputs": [
    {
     "name": "stdout",
     "output_type": "stream",
     "text": [
      "6\n",
      "Graph\n"
     ]
    }
   ],
   "source": [
    "#export config model to gephi\n",
    "G_max = max( (G.subgraph(c) for c in nx.connected_components(G) ), key=len)\n",
    "print(nx.number_connected_components(G))\n",
    "\n",
    "G_max = nx.Graph(G_max)\n",
    "print(type(G_max).__name__)\n",
    "\n",
    "nx.write_gexf(G, \"ChatterGroups.gexf\")"
   ]
  },
  {
   "cell_type": "markdown",
   "metadata": {},
   "source": [
    "### Analysis of the Graph"
   ]
  },
  {
   "cell_type": "code",
   "execution_count": 8,
   "metadata": {},
   "outputs": [],
   "source": [
    "def neighbor_degree(node, nxgraph):\n",
    "    avg_degree = np.mean([nxgraph.degree(n) for n in nxgraph.neighbors(node)])\n",
    "    return avg_degree\n",
    "\n",
    "def friendship_paradox(nxgraph):\n",
    "    pdox_ct = 0\n",
    "    for n in nxgraph.nodes():\n",
    "        if nxgraph.degree(n) < neighbor_degree(n, nxgraph):\n",
    "            pdox_ct += 1\n",
    "    return pdox_ct / len(nxgraph)"
   ]
  },
  {
   "cell_type": "code",
   "execution_count": 9,
   "metadata": {},
   "outputs": [
    {
     "name": "stdout",
     "output_type": "stream",
     "text": [
      "Name: \n",
      "Type: Graph\n",
      "Number of nodes: 13404\n",
      "Number of edges: 17491\n",
      "Average degree:   2.6098\n",
      "Friendship Paradox: 0.9931\n",
      "Graph Density: 0.0002\n",
      "Time to complete process: 0.394sec\n"
     ]
    }
   ],
   "source": [
    "# TAKES A LONG TIME IF YOU RUN AVG SHORTEST PATH AND AVG CLUSTERING ~ 5000sec\n",
    "start=time.clock()\n",
    "\n",
    "print(nx.info(G))\n",
    "print('Friendship Paradox: '+str(round(friendship_paradox(G),4)))\n",
    "print('Graph Density: '+str(round(nx.density(G),4)))\n",
    "#print('Avg Clustering Coefficient: '+str(nx.average_clustering(G)))\n",
    "#print('Avg Shortest Path: '+str(round(nx.average_shortest_path_length(G, weight=None),4)))\n",
    "\n",
    "end=time.clock()\n",
    "print(\"Time to complete process: \"+str(round(end-start,3))+\"sec\")"
   ]
  },
  {
   "cell_type": "code",
   "execution_count": 10,
   "metadata": {},
   "outputs": [
    {
     "data": {
      "image/png": "[encoded data removed]",
      "text/plain": [
       "<Figure size 432x288 with 1 Axes>"
      ]
     },
     "metadata": {},
     "output_type": "display_data"
    }
   ],
   "source": [
    "deg_seq = list(dict(nx.degree(G)).values())\n",
    "nk = Counter(deg_seq)\n",
    "\n",
    "x = []\n",
    "y = []\n",
    "for k in sorted(nk):\n",
    "    x.append(k)\n",
    "    y.append(nk[k])\n",
    "    \n",
    "plt.plot(x,y)\n",
    "plt.show()"
   ]
  },
  {
   "cell_type": "code",
   "execution_count": 11,
   "metadata": {},
   "outputs": [
    {
     "data": {
      "image/png": "[encoded data removed]",
      "text/plain": [
       "<Figure size 432x288 with 1 Axes>"
      ]
     },
     "metadata": {},
     "output_type": "display_data"
    }
   ],
   "source": [
    "deg_seq = list(dict(nx.degree(G)).values())\n",
    "bins = np.logspace(0.0, 4.0, num=40)\n",
    "\n",
    "Y, X = np.histogram(deg_seq, bins=bins, normed=True)\n",
    "\n",
    "X = [x*np.sqrt(bins[1]) for x in X][:-1]\n",
    "\n",
    "plt.ylim((0.00001, 1))\n",
    "plt.xlabel('Degree, x')\n",
    "plt.ylabel(\"n(X)\")\n",
    "plt.loglog(X,Y, 'o', markersize=3, markerfacecolor='none')\n",
    "plt.show()"
   ]
  },
  {
   "cell_type": "code",
   "execution_count": 13,
   "metadata": {},
   "outputs": [
    {
     "data": {
      "image/png": "[encoded data removed]",
      "text/plain": [
       "<Figure size 432x288 with 1 Axes>"
      ]
     },
     "metadata": {},
     "output_type": "display_data"
    }
   ],
   "source": [
    "def cdf(data):\n",
    "    data_size=len(data)\n",
    "    \n",
    "    # Set bins edges\n",
    "    data_set=sorted(set(data))\n",
    "    bins=np.append(data_set, data_set[-1]+1)\n",
    "\n",
    "    # Use the histogram function to bin the data\n",
    "    counts, bin_edges = np.histogram(data, bins=bins, density=False)\n",
    "    counts=counts.astype(float)/data_size\n",
    "\n",
    "    # Find the cdf\n",
    "    cdf = np.cumsum(counts)\n",
    "    \n",
    "    return cdf, bin_edges\n",
    "\n",
    "cdf, bin_edges = cdf(y)\n",
    "\n",
    "# Plot the cdf\n",
    "plt.plot(bin_edges[0:-1], 1-cdf) #1 - cdf to get ccdf\n",
    "#plt.xscale('log')\n",
    "#plt.yscale('log')\n",
    "#plt.ylim((0,1))\n",
    "plt.ylabel(\"CCDF\")\n",
    "plt.xlabel(\"N\")\n",
    "plt.grid(True)\n",
    "\n",
    "plt.show()"
   ]
  },
  {
   "cell_type": "code",
   "execution_count": 15,
   "metadata": {},
   "outputs": [
    {
     "name": "stderr",
     "output_type": "stream",
     "text": [
      "Calculating best minimal value for power law fit\n",
      "c:\\users\\ahilgenkamp\\appdata\\local\\programs\\python\\python36\\lib\\site-packages\\powerlaw.py:700: RuntimeWarning: divide by zero encountered in true_divide\n",
      "  (Theoretical_CDF * (1 - Theoretical_CDF))\n",
      "c:\\users\\ahilgenkamp\\appdata\\local\\programs\\python\\python36\\lib\\site-packages\\powerlaw.py:700: RuntimeWarning: invalid value encountered in true_divide\n",
      "  (Theoretical_CDF * (1 - Theoretical_CDF))\n",
      "Calculating best minimal value for power law fit\n"
     ]
    },
    {
     "name": "stdout",
     "output_type": "stream",
     "text": [
      "20.0\n",
      "1.7603153406940892\n",
      "21.49116915067745 1.7703029947790694\n"
     ]
    },
    {
     "data": {
      "image/png": "[encoded data removed]",
      "text/plain": [
       "<Figure size 432x288 with 1 Axes>"
      ]
     },
     "metadata": {},
     "output_type": "display_data"
    }
   ],
   "source": [
    "# Find the cut-off\n",
    "node_degrees = deg_seq\n",
    "fit = powerlaw.Fit(node_degrees)\n",
    "print(fit.xmin)\n",
    "\n",
    "# estimate the scaling exponent\n",
    "alpha = fit.power_law.alpha\n",
    "print(alpha)\n",
    "\n",
    "# plot vs theoretical distribution\n",
    "theoretical_distribution = powerlaw.Power_Law(xmin=20.0, parameters=[1.76])\n",
    "simulated_data = theoretical_distribution.generate_random(10000)\n",
    "fit2 = powerlaw.Fit(simulated_data)\n",
    "print( fit2.power_law.xmin, fit2.power_law.alpha )\n",
    "\n",
    "fig = fit.plot_ccdf(linewidth=3, label='Real Graph')\n",
    "fit2.power_law.plot_ccdf(ax=fig, color='r', linestyle='--', label='Theoretical')\n",
    "plt.title('Power Law')\n",
    "plt.ylabel(\"CCDF\")\n",
    "plt.xlabel(\"k\")\n",
    "plt.legend()\n",
    "\n",
    "plt.show()"
   ]
  }
 ],
 "metadata": {
  "kernelspec": {
   "display_name": "Python 3",
   "language": "python",
   "name": "python3"
  },
  "language_info": {
   "codemirror_mode": {
    "name": "ipython",
    "version": 3
   },
   "file_extension": ".py",
   "mimetype": "text/x-python",
   "name": "python",
   "nbconvert_exporter": "python",
   "pygments_lexer": "ipython3",
   "version": "3.6.4"
  }
 },
 "nbformat": 4,
 "nbformat_minor": 2
}
